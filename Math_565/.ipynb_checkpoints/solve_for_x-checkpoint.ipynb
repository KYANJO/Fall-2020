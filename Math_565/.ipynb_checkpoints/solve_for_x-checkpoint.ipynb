{
 "cells": [
  {
   "cell_type": "markdown",
   "metadata": {},
   "source": [
    "# Solving a non-linear scalar equation\n",
    "\n",
    "In this notebook, we will solve the equation\n",
    "\n",
    "\\begin{equation}\n",
    "\\cos(x) = x\n",
    "\\end{equation}\n",
    "\n",
    "by solving a root-finding problem $f(x) = 0$.   For this problem, we define\n",
    "\n",
    "\\begin{equation}\n",
    "f(x) = \\cos(x) - x\n",
    "\\end{equation}\n",
    "\n",
    "and observe that if $f(x) = 0$, then $\\cos(x) = x$ and we will have found a solution to our original problem.  \n",
    "\n",
    "To solve this problem, we generate a sequence of *iterates* $x_0, x_1, x_2, ... x_k, ...$ and hope that we get closer and closer to the real solution.  A fundamental question in numerical analysis is, When does such a sequence actually converge to the true solution? \n",
    "\n",
    "Our code for the solution is below.  To do this, we will use Matplotlib and Numpy.  Both can be imported using the `pylab` magic command. "
   ]
  },
  {
   "cell_type": "code",
   "execution_count": 2,
   "metadata": {},
   "outputs": [
    {
     "name": "stdout",
     "output_type": "stream",
     "text": [
      "Using matplotlib backend: nbAgg\n",
      "Populating the interactive namespace from numpy and matplotlib\n"
     ]
    },
    {
     "name": "stderr",
     "output_type": "stream",
     "text": [
      "C:\\Users\\Michael Chiwere\\Anaconda3\\lib\\site-packages\\IPython\\core\\magics\\pylab.py:160: UserWarning: pylab import has clobbered these variables: ['f']\n",
      "`%matplotlib` prevents importing * from pylab and numpy\n",
      "  \"\\n`%matplotlib` prevents importing * from pylab and numpy\"\n"
     ]
    }
   ],
   "source": [
    "%matplotlib notebook\n",
    "%pylab"
   ]
  },
  {
   "cell_type": "code",
   "execution_count": 3,
   "metadata": {},
   "outputs": [
    {
     "name": "stdout",
     "output_type": "stream",
     "text": [
      "[[1.                ]\n",
      " [0.7503638678402439]\n",
      " [0.7391128909113617]\n",
      " [0.739085133385284 ]\n",
      " [0.7390851332151607]]\n"
     ]
    }
   ],
   "source": [
    "# Choose a starting guess : \n",
    "\n",
    "kmax = 100\n",
    "\n",
    "# Define a function and its derivative\n",
    "def f(x):\n",
    "    return cos(x) - x\n",
    "\n",
    "def fp(x):\n",
    "    return -sin(x) - 1\n",
    "\n",
    "\n",
    "x = empty((kmax,1))\n",
    "x[0] = 1    # Starting guess\n",
    "tol = 1e-12\n",
    "for k in range(0,kmax-1):\n",
    "    x[k+1] = x[k]  - f(x[k])/fp(x[k])\n",
    "    if abs(x[k+1]-x[k]) < tol:\n",
    "        max_k = k+1\n",
    "        break        \n",
    "    \n",
    "set_printoptions(precision=16)\n",
    "print(x[:max_k])"
   ]
  },
  {
   "cell_type": "code",
   "execution_count": null,
   "metadata": {},
   "outputs": [],
   "source": []
  }
 ],
 "metadata": {
  "kernelspec": {
   "display_name": "Python 3",
   "language": "python",
   "name": "python3"
  },
  "language_info": {
   "codemirror_mode": {
    "name": "ipython",
    "version": 3
   },
   "file_extension": ".py",
   "mimetype": "text/x-python",
   "name": "python",
   "nbconvert_exporter": "python",
   "pygments_lexer": "ipython3",
   "version": "3.7.6"
  }
 },
 "nbformat": 4,
 "nbformat_minor": 2
}
