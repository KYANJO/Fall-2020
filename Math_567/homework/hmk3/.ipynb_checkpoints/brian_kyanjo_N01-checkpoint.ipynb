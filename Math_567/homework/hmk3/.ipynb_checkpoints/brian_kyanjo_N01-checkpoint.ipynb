{
 "cells": [
  {
   "cell_type": "code",
   "execution_count": 1,
   "metadata": {},
   "outputs": [
    {
     "name": "stdout",
     "output_type": "stream",
     "text": [
      "Using matplotlib backend: nbAgg\n",
      "Populating the interactive namespace from numpy and matplotlib\n"
     ]
    }
   ],
   "source": [
    "%matplotlib notebook\n",
    "%pylab"
   ]
  },
  {
   "cell_type": "markdown",
   "metadata": {},
   "source": [
    "# N0.1 a)"
   ]
  },
  {
   "cell_type": "code",
   "execution_count": 2,
   "metadata": {},
   "outputs": [],
   "source": [
    "def fd2tpbvp(p,q,r,alpha,beta,m):\n",
    "    '''\n",
    "    Arguments\n",
    "    ---------\n",
    "    p,q,r: are function coefficients in the equation u''=p(x)u' + q(x)u +r(x)\n",
    "    alpha and beta: are boundary function points:u(0) and u(1) respectively\n",
    "    m: number of interior discretization points\n",
    "    \n",
    "    Parameters\n",
    "    ----------\n",
    "    A: is m by m interior matrix\n",
    "    e1 and em: are first and last columns of and m by m identity matrix respectively\n",
    "    rh: is a column vector of r(x)\n",
    "    \n",
    "    Returns\n",
    "    -------\n",
    "    U_h: second derivative of fuction u(x)\n",
    "    '''\n",
    "    a=0;b=1\n",
    "    h=(b-a)/(m+1)\n",
    "    x=zeros(m)\n",
    "    A=zeros((m,m))\n",
    "    F=zeros(m)\n",
    "    rh=zeros(m)\n",
    "    rh[m-1]=r(b)\n",
    "    e1=zeros(m);em=zeros(m)\n",
    "    e1[0]=1;em[m-1]=1\n",
    "    for j in range(m):\n",
    "        x[j]=(1+j)*h\n",
    "        f1=(1/(h**2))+(p(x[j]))/(2*h)\n",
    "        f2=(1/(h**2))-(p(x[j]))/(2*h)\n",
    "        rh[j]=r(x[j])\n",
    "\n",
    "        A[j,j]=(-2/(h**2))-q(x[j])\n",
    "        if  j == 0:\n",
    "            A[j,j+1]=(1/(h**2))-(p(x[j]))/(2*h)\n",
    "            F=r(x[j])-(f1*alpha*e1)\n",
    "\n",
    "        elif 0<j<=m-2:\n",
    "            A[j,j+1]=(1/(h**2))-p(x[j])/(2*h)\n",
    "            A[j,j-1] = (1/h**2) + p(x[j])/(2*h)\n",
    "            F=r(x[j])\n",
    "        else:\n",
    "            A[j,j-1] = (1/h**2) + p(x[j])/(2*h)    \n",
    "            F=r(x[j])-(f2*beta*em)\n",
    "    U_h=linalg.solve(A,F) #inverse(A)*F\n",
    "    return U_h   \n",
    "    "
   ]
  },
  {
   "cell_type": "code",
   "execution_count": null,
   "metadata": {},
   "outputs": [],
   "source": []
  }
 ],
 "metadata": {
  "kernelspec": {
   "display_name": "Python 3",
   "language": "python",
   "name": "python3"
  },
  "language_info": {
   "codemirror_mode": {
    "name": "ipython",
    "version": 3
   },
   "file_extension": ".py",
   "mimetype": "text/x-python",
   "name": "python",
   "nbconvert_exporter": "python",
   "pygments_lexer": "ipython3",
   "version": "3.7.6"
  }
 },
 "nbformat": 4,
 "nbformat_minor": 4
}
