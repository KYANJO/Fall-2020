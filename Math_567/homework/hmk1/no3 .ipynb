{
 "cells": [
  {
   "cell_type": "code",
   "execution_count": 8,
   "metadata": {},
   "outputs": [
    {
     "name": "stdout",
     "output_type": "stream",
     "text": [
      "Populating the interactive namespace from numpy and matplotlib\n"
     ]
    }
   ],
   "source": [
    "%pylab notebook"
   ]
  },
  {
   "cell_type": "code",
   "execution_count": 9,
   "metadata": {},
   "outputs": [],
   "source": [
    "def FirstDer(a, b, M, u, U_a, U_b):\n",
    "    '''\n",
    "    Parameters\n",
    "    ----------\n",
    "    u: Function being differentiated\n",
    "    a,b: Numbers making the boundaries of interval of differentiation\n",
    "    M: integer, number of interior points the function is being differentiated\n",
    "    U_a, U_b: Floating point numbers, giving information about the derivative at the boundary points\n",
    "    \n",
    "    Returns:\n",
    "    -------\n",
    "    An array of size M, containing values of the derivatives at the interior points \n",
    "    of the interval of differentiation.\n",
    "    '''\n",
    "    \n",
    "    h =(b-a)/(M+1);\n",
    "    x=linspace(a,b, M+2)\n",
    "    x_j =x[1:-1]\n",
    "    s=(M,M)\n",
    "    A=np.zeros(s)\n",
    "    F=np.zeros(M)\n",
    "    \n",
    "    for i in range(0,M):\n",
    "        A[i,i]=4\n",
    "        if (i==0):\n",
    "            A[i,i+1]=1\n",
    "            F[i]=3/h*(-u(x_j[i]-h)+u(x_j[i]+h))+U_a\n",
    "        elif (0<i<M-1):\n",
    "            A[i,i-1]=1\n",
    "            A[i,i+1]=1\n",
    "            F[i]=3/h*(-u(x_j[i]-h)+u(x_j[i]+h))\n",
    "        elif (i==M-1):\n",
    "            A[i,i-1]=1\n",
    "            F[i]=3/h*(-u(x_j[i]-h)+u(x_j[i]+h))+ U_b\n",
    "    return linalg.solve(A,F)"
   ]
  },
  {
   "cell_type": "code",
   "execution_count": 10,
   "metadata": {},
   "outputs": [],
   "source": [
    "def SecondDer(a, b, M, u, U_a, U_b):\n",
    "    '''\n",
    "    Parameters\n",
    "    ----------\n",
    "    u: Function being differentiated\n",
    "    a,b: Numbers making the boundaries of interval of differentiation\n",
    "    M: integer, number of interior points the function is being differentiated\n",
    "    U_b, U_b: Floating point numbers, giving information about the second derivative at the boundary points\n",
    "    \n",
    "    Returns:\n",
    "    -------\n",
    "    An array of size M, containing values of the second derivatives at the interior points \n",
    "    of the interval of differentiation.\n",
    "    '''\n",
    "    h =(b-a)/(M+1);\n",
    "    x=linspace(a,b, M+2)\n",
    "    x_j =x[1:-1]\n",
    "    s=(M,M)\n",
    "    A=np.zeros(s)\n",
    "    F=np.zeros(M)\n",
    "    \n",
    "    for i in range(0,M):\n",
    "        A[i,i]=10\n",
    "        if (i==0):\n",
    "            A[i,i+1]=1\n",
    "            F[i]=12/(h**2)*(u(x_j[i]-h)-2*u(x_j[i])+u(x_j[i]+h))+U_a\n",
    "        elif(0<i<M-1):\n",
    "            A[i,i-1]=1\n",
    "            A[i, i+1]=1\n",
    "            F[i]=12/(h**2)*(u(x_j[i]-h)-2*u(x_j[i])+u(x_j[i]+h))\n",
    "        elif  (i==M-1):\n",
    "            A[i,i-1]=1\n",
    "            F[i]=12/(h**2)*(u(x_j[i]-h)-2*u(x_j[i])+u(x_j[i]+h))+ U_b\n",
    "    return linalg.solve(A,F)"
   ]
  },
  {
   "cell_type": "code",
   "execution_count": 11,
   "metadata": {},
   "outputs": [],
   "source": [
    "u = lambda x: x**2*exp(-x) # vectorized function u\n",
    "uprime = lambda x: 2 *exp(-x)*x - exp(-x)*x**2  # First derivative\n",
    "udprime = lambda x: (x**2 - 4*x +2)*exp(-x)   # Second derivative\n",
    "\n",
    "# The L2 norm\n",
    "def RelativeL2norm(E, A):\n",
    "    '''\n",
    "    parameters\n",
    "    ----------\n",
    "    E: vector of the estimated values\n",
    "    A: Actual values of the derivative\n",
    "    \n",
    "    Returns:\n",
    "    The L2 norm of the error estimate (Floating point number)\n",
    "    '''\n",
    "    d= A-E\n",
    "    return sqrt(sum(d**2)/sum(A**2))\n",
    "    "
   ]
  },
  {
   "cell_type": "code",
   "execution_count": 12,
   "metadata": {},
   "outputs": [],
   "source": [
    "E1=FirstDer(0,1,9,u,uprime(0),uprime(1)) \n",
    "E2=SecondDer(0,1,9,u,udprime(0),udprime(1))  #The estimated values"
   ]
  },
  {
   "cell_type": "code",
   "execution_count": 14,
   "metadata": {},
   "outputs": [
    {
     "data": {
      "text/plain": [
       "array([0.17193647, 0.29473101, 0.37789746, 0.42873848, 0.45591938,\n",
       "       0.45721345, 0.46605083, 0.37853368, 0.59965322])"
      ]
     },
     "execution_count": 14,
     "metadata": {},
     "output_type": "execute_result"
    }
   ],
   "source": [
    "E1"
   ]
  },
  {
   "cell_type": "code",
   "execution_count": 16,
   "metadata": {},
   "outputs": [
    {
     "data": {
      "text/plain": [
       "array([ 1.86085818,  0.97439627,  0.66344367,  0.37495635,  0.15166088,\n",
       "       -0.02188538, -0.1547041 , -0.24411964, -0.39552045])"
      ]
     },
     "execution_count": 16,
     "metadata": {},
     "output_type": "execute_result"
    }
   ],
   "source": [
    "E2"
   ]
  },
  {
   "cell_type": "code",
   "execution_count": 17,
   "metadata": {},
   "outputs": [
    {
     "ename": "SyntaxError",
     "evalue": "invalid syntax (<ipython-input-17-6e691b0aae1e>, line 28)",
     "output_type": "error",
     "traceback": [
      "\u001b[0;36m  File \u001b[0;32m\"<ipython-input-17-6e691b0aae1e>\"\u001b[0;36m, line \u001b[0;32m28\u001b[0m\n\u001b[0;31m    if i==m-1:\u001b[0m\n\u001b[0m             ^\u001b[0m\n\u001b[0;31mSyntaxError\u001b[0m\u001b[0;31m:\u001b[0m invalid syntax\n"
     ]
    }
   ],
   "source": [
    "def secondderivative(a,b,m,u,ua,ub):\n",
    "    '''\n",
    "    Arguments\n",
    "    ---------\n",
    "    a,b: Boundary points\n",
    "    u: function to be differentiated\n",
    "    ua,ub: Boundary values of the function at a and b respectively\n",
    "    m: Number of interior points\n",
    "    \n",
    "    Return\n",
    "    ------\n",
    "    U_prime: An array of dimensions m, containing values of derivatives at the interior points\n",
    "\n",
    "    '''\n",
    "    h=(b-a)/(m+1)\n",
    "    A=zeros((m,m)) #tridiagonal interior matrix\n",
    "    F=zeros(m)\n",
    "    x1=linspace(a,b,m+2);x=x1[1:-1]\n",
    "    for i in range(len(A)):\n",
    "        A[i,i]=10\n",
    "        if i==0:\n",
    "            A[i,i+1]=1\n",
    "            F[i]=(12/(h**2))*(u(x[i]-h)-2*u(x[i])+u(x[i]+h))+ua\n",
    "        if 1<=i<=m-2:\n",
    "            A[i,i-1]=1\n",
    "            A[i,i+1]=1\n",
    "            F[i]=(12/(h**2))*(u(x[i]-h)-2*u(x[i])+u(x[i]+h)\n",
    "        if (i==m-1):\n",
    "            A[i,i-1]=1\n",
    "            F[i]=(12/(h**2))*(u(x[i]-h)-2*u(x[i])+u(x[i]+h))+ub\n",
    "    U_prime=linalg.solve(A,F) #inverse(A)*F\n",
    "    return U_prime"
   ]
  },
  {
   "cell_type": "code",
   "execution_count": null,
   "metadata": {},
   "outputs": [],
   "source": []
  }
 ],
 "metadata": {
  "kernelspec": {
   "display_name": "Python 3",
   "language": "python",
   "name": "python3"
  },
  "language_info": {
   "codemirror_mode": {
    "name": "ipython",
    "version": 3
   },
   "file_extension": ".py",
   "mimetype": "text/x-python",
   "name": "python",
   "nbconvert_exporter": "python",
   "pygments_lexer": "ipython3",
   "version": "3.7.6"
  }
 },
 "nbformat": 4,
 "nbformat_minor": 2
}
