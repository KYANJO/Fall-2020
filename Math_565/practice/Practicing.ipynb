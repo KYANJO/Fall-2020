{
 "cells": [
  {
   "cell_type": "code",
   "execution_count": 1,
   "metadata": {},
   "outputs": [
    {
     "name": "stdout",
     "output_type": "stream",
     "text": [
      "Using matplotlib backend: nbAgg\n",
      "Populating the interactive namespace from numpy and matplotlib\n"
     ]
    }
   ],
   "source": [
    "%matplotlib notebook\n",
    "%pylab"
   ]
  },
  {
   "cell_type": "code",
   "execution_count": 12,
   "metadata": {},
   "outputs": [
    {
     "data": {
      "text/plain": [
       "array([[1.        ],\n",
       "       [0.75036387],\n",
       "       [0.73911289],\n",
       "       [0.73908513],\n",
       "       [0.73908513],\n",
       "       [0.73908513]])"
      ]
     },
     "execution_count": 12,
     "metadata": {},
     "output_type": "execute_result"
    }
   ],
   "source": [
    "def f(x):\n",
    "    return cos(x)-x\n",
    "\n",
    "def fp(x):\n",
    "    return -sin(x)-1\n",
    "\n",
    "kmax=20\n",
    "tol=1e-12\n",
    "x=empty((kmax,1))\n",
    "x[0]=1\n",
    "\n",
    "for k in range(1,kmax):\n",
    "    x[k]=x[k-1]-(f(x[k-1])/fp(x[k-1]))\n",
    "    if abs(x[k]-x[k-1]) < tol:\n",
    "        max_k=k+1\n",
    "        break\n",
    "\n",
    "    \n",
    "    \n",
    "x[:max_k]\n",
    "  \n",
    "\n",
    "    \n"
   ]
  },
  {
   "cell_type": "code",
   "execution_count": null,
   "metadata": {},
   "outputs": [],
   "source": []
  },
  {
   "cell_type": "code",
   "execution_count": null,
   "metadata": {},
   "outputs": [],
   "source": []
  }
 ],
 "metadata": {
  "kernelspec": {
   "display_name": "Python 3",
   "language": "python",
   "name": "python3"
  },
  "language_info": {
   "codemirror_mode": {
    "name": "ipython",
    "version": 3
   },
   "file_extension": ".py",
   "mimetype": "text/x-python",
   "name": "python",
   "nbconvert_exporter": "python",
   "pygments_lexer": "ipython3",
   "version": "3.7.6"
  }
 },
 "nbformat": 4,
 "nbformat_minor": 4
}
