{
 "cells": [
  {
   "cell_type": "code",
   "execution_count": 2,
   "metadata": {},
   "outputs": [
    {
     "name": "stdout",
     "output_type": "stream",
     "text": [
      "Using matplotlib backend: nbAgg\n",
      "Populating the interactive namespace from numpy and matplotlib\n"
     ]
    },
    {
     "name": "stderr",
     "output_type": "stream",
     "text": [
      "/home/brian/anaconda3/lib/python3.7/site-packages/IPython/core/magics/pylab.py:160: UserWarning: pylab import has clobbered these variables: ['beta']\n",
      "`%matplotlib` prevents importing * from pylab and numpy\n",
      "  \"\\n`%matplotlib` prevents importing * from pylab and numpy\"\n"
     ]
    }
   ],
   "source": [
    "%matplotlib notebook\n",
    "%pylab"
   ]
  },
  {
   "cell_type": "code",
   "execution_count": 14,
   "metadata": {},
   "outputs": [
    {
     "data": {
      "text/plain": [
       "array([[-128.,   64.,    0.,    0.,    0.,    0.,    0.],\n",
       "       [  64., -128.,   64.,    0.,    0.,    0.,    0.],\n",
       "       [   0.,   64., -128.,   64.,    0.,    0.,    0.],\n",
       "       [   0.,    0.,   64., -128.,   64.,    0.,    0.],\n",
       "       [   0.,    0.,    0.,   64., -128.,   64.,    0.],\n",
       "       [   0.,    0.,    0.,    0.,   64., -128.,   64.],\n",
       "       [   0.,    0.,    0.,    0.,    0.,   64., -128.]])"
      ]
     },
     "execution_count": 14,
     "metadata": {},
     "output_type": "execute_result"
    }
   ],
   "source": [
    "alpha=0\n",
    "beta=0\n",
    "m=7\n",
    "q=lambda x:0\n",
    "p=lambda x:0\n",
    "r=lambda x:0\n",
    "a=0;b=1\n",
    "h=(b-a)/(m+1)\n",
    "x=zeros(m)\n",
    "#x[m-1]=1\n",
    "A=zeros((m,m))\n",
    "#A[m-1,m-1]=(-2/(h**2))-q(b)\n",
    "F=zeros(m)\n",
    "rh=zeros(m)\n",
    "rh[m-1]=r(b)\n",
    "e1=zeros(m);em=zeros(m)\n",
    "e1[0]=1;em[m-1]=1\n",
    "for j in range(m):\n",
    "    x[j]=(1+j)*h\n",
    "    f1=(1/(h**2))+(p(x[j]))/2*h\n",
    "    f2=(1/(h**2))-(p(x[j]))/2*h\n",
    "    rh[j]=r(x[j])\n",
    "    \n",
    "    A[j,j]=(-2/(h**2))-q(x[j])\n",
    "    if  j == 0:\n",
    "        A[j,j+1]=(1/(h**2))-(p(x[j]))/(2*h)\n",
    "        F=rh-(f1*alpha*e1)-(f2*beta*em)\n",
    "        \n",
    "    elif 0<j<=m-2:\n",
    "        A[j,j+1]=(1/(h**2))-p(x[j])\n",
    "        A[j,j-1] = (1/h**2) + p(x[j])/(2*h)\n",
    "        F=rh\n",
    "    else:\n",
    "        A[j,j-1] = (1/h**2) + p(x[j])/(2*h)    \n",
    "        F=rh-(f1*alpha*e1)-(f2*beta*em)\n",
    "#linalg.solve(A,transpose(F))\n",
    "A"
   ]
  },
  {
   "cell_type": "code",
   "execution_count": 7,
   "metadata": {},
   "outputs": [
    {
     "data": {
      "text/plain": [
       "array([0.25, 0.5 , 0.75, 1.  , 1.25, 1.5 , 1.75])"
      ]
     },
     "execution_count": 7,
     "metadata": {},
     "output_type": "execute_result"
    }
   ],
   "source": [
    "F"
   ]
  },
  {
   "cell_type": "code",
   "execution_count": 8,
   "metadata": {},
   "outputs": [
    {
     "data": {
      "text/plain": [
       "array([0.25, 0.5 , 0.75, 1.  , 1.25, 1.5 , 1.75])"
      ]
     },
     "execution_count": 8,
     "metadata": {},
     "output_type": "execute_result"
    }
   ],
   "source": [
    "#exact solution\n",
    "uexact=lambda x: (x-1)*(tan(x))\n",
    "Uexact=[]\n",
    "h=[]\n",
    "m=[10,20,40,80,160]\n",
    "for j in m:\n",
    "    xj=zeros(j)\n",
    "    for i in range(1,j):\n",
    "        hi=1/(j+1)\n",
    "        xj[i]=(i+1)*hi\n",
    "    h.append(hi)\n",
    "    u_exact=uexact(xj)\n",
    "    Uexact.append(u_exact)\n",
    "    print('\\nExact solution for m=',j,'is', u_exact)\n",
    "    #figure(j)\n",
    "    #plot(xj,u_exact)\n"
   ]
  },
  {
   "cell_type": "code",
   "execution_count": null,
   "metadata": {},
   "outputs": [],
   "source": [
    "def fd2tpbvp(p,q,r,alpha,beta,m):\n",
    "    '''\n",
    "    Arguments\n",
    "    ---------\n",
    "    p,q,r: are function coefficients in the equation u''=p(x)u' + q(x)u +r(x)\n",
    "    alpha and beta: are boundary function points:u(0) and u(1) respectively\n",
    "    m: number of interior discretization points\n",
    "    \n",
    "    Parameters\n",
    "    ----------\n",
    "    A: is m by m interior matrix\n",
    "    e1 and em: are first and last columns of and m by m identity matrix respectively\n",
    "    rh: is a column vector of r(x)\n",
    "    \n",
    "    Returns\n",
    "    -------\n",
    "    U_h: second derivative of fuction u(x)\n",
    "    '''\n",
    "    h=(b-a)/(m+1)\n",
    "    A=zeros((m,m))\n",
    "    F=zeros(m)\n",
    "    x=zeros(m)\n",
    "    \n",
    "    for j in range(m):\n",
    "        x[j]=(j+1)*h\n",
    "        A[j,j]=(-2/(h**2))-q(x[j])\n",
    "        f1=(1/(h**2))+(p(x[j]))/(2*h)\n",
    "        f2=(1/(h**2))-(p(x[j]))/(2*h)\n",
    "        \n",
    "        if j == 0:\n",
    "            A[j,j+1]=(1/(h**2))-(p(x[j]))/(2*h)\n",
    "            F[j]=rh(x[j])-(f1*alpha*e1)\n",
    "\n",
    "        elif 0<j<=m-2:\n",
    "            A[j,j+1]=(1/(h**2))-p(x[j])/\n",
    "            A[j,j-1] = (1/h**2) + p(x[j])/(2*h)\n",
    "            F=rh\n",
    "        else:\n",
    "            A[j,j-1] = (1/h**2) + p(x[j])/(2*h)    \n",
    "            F=rh-(f1*alpha*e1)-(f2*beta*em)\n",
    "    U_h=linalg.solve(A,F) #inverse(A)*F\n",
    "    return U_h     \n",
    "        "
   ]
  },
  {
   "cell_type": "code",
   "execution_count": null,
   "metadata": {},
   "outputs": [],
   "source": [
    "a=0 ;b=2*pi\n",
    "m=99\n",
    "\n",
    "def f(x):\n",
    "    return (-4*cos(2*x))\n",
    "\n",
    "sig0=0; sig1= 0\n",
    "\n",
    "h=(b-a)/(m+1)\n",
    "c=1/(h**2)\n",
    "x=zeros(m+2)\n",
    "A=zeros((m+3,m+3)) #(m+3)-by-(m+3) matrix\n",
    "F=zeros(m+3)\n",
    "\n",
    "for j in range(m+2):\n",
    "    x[j]=a+j*h\n",
    "    A[j,j]=-2*c\n",
    "    \n",
    "    if j == 0:\n",
    "        A[j,j+1]=2*c\n",
    "        A[j,-1]=1/2\n",
    "        A[-1,j]=1/2\n",
    "        F[j]=f(a)+(2/h)*sig0\n",
    "        \n",
    "    elif 0<j<m+1:\n",
    "        A[j,j+1]=c\n",
    "        A[j,j-1]=c\n",
    "        A[j,-1]=1\n",
    "        A[-1,j]=1\n",
    "        F[j]=f(x[j])\n",
    "        \n",
    "    else:\n",
    "        A[j,j+1]=1/2\n",
    "        A[j,j-1]=2*c\n",
    "        A[-1,j]=1/2\n",
    "        F[j]=f(b)-(2/h)*sig1\n",
    "        \n",
    "U=solve(A,F) "
   ]
  }
 ],
 "metadata": {
  "kernelspec": {
   "display_name": "Python 3",
   "language": "python",
   "name": "python3"
  },
  "language_info": {
   "codemirror_mode": {
    "name": "ipython",
    "version": 3
   },
   "file_extension": ".py",
   "mimetype": "text/x-python",
   "name": "python",
   "nbconvert_exporter": "python",
   "pygments_lexer": "ipython3",
   "version": "3.7.6"
  }
 },
 "nbformat": 4,
 "nbformat_minor": 4
}
